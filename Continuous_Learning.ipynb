{
 "cells": [
  {
   "cell_type": "markdown",
   "metadata": {
    "toc": true
   },
   "source": [
    "<h1>Table of Contents<span class=\"tocSkip\"></span></h1>\n",
    "<div class=\"toc\"><ul class=\"toc-item\"></ul></div>"
   ]
  },
  {
   "cell_type": "code",
   "execution_count": 1,
   "metadata": {
    "ExecuteTime": {
     "end_time": "2023-02-15T13:19:07.069384Z",
     "start_time": "2023-02-15T13:19:05.794333Z"
    }
   },
   "outputs": [],
   "source": [
    "import joblib\n",
    "import pandas as pd \n",
    "from lightgbm import LGBMClassifier, create_tree_digraph\n",
    "from sklearn.metrics import roc_auc_score, precision_recall_curve, auc\n",
    "from imblearn.under_sampling import RandomUnderSampler\n",
    "from collections import Counter\n",
    "\n",
    "pd.set_option(\"display.max_columns\", None)"
   ]
  },
  {
   "cell_type": "code",
   "execution_count": 2,
   "metadata": {
    "ExecuteTime": {
     "end_time": "2023-02-15T13:19:07.073539Z",
     "start_time": "2023-02-15T13:19:07.071001Z"
    }
   },
   "outputs": [],
   "source": [
    "def pr_auc(y_true, y_pred):\n",
    "    \n",
    "    precision, recall, threshold = precision_recall_curve(y_true, y_pred)\n",
    "    \n",
    "    pr_auc = auc(recall, precision)\n",
    "    \n",
    "    return pr_auc "
   ]
  },
  {
   "cell_type": "code",
   "execution_count": 3,
   "metadata": {
    "ExecuteTime": {
     "end_time": "2023-02-15T13:19:07.776201Z",
     "start_time": "2023-02-15T13:19:07.763196Z"
    }
   },
   "outputs": [],
   "source": [
    "prod_model = joblib.load(\"model_30_features_dev_june_july_twice.joblib\")"
   ]
  },
  {
   "cell_type": "code",
   "execution_count": 4,
   "metadata": {
    "ExecuteTime": {
     "end_time": "2023-02-15T13:19:09.562110Z",
     "start_time": "2023-02-15T13:19:09.553610Z"
    }
   },
   "outputs": [
    {
     "data": {
      "text/plain": [
       "{'boosting_type': 'gbdt',\n",
       " 'class_weight': None,\n",
       " 'colsample_bytree': 1.0,\n",
       " 'importance_type': 'gain',\n",
       " 'learning_rate': 0.1,\n",
       " 'max_depth': 4,\n",
       " 'min_child_samples': 20,\n",
       " 'min_child_weight': 0.001,\n",
       " 'min_split_gain': 0.0,\n",
       " 'n_estimators': 300,\n",
       " 'n_jobs': -1,\n",
       " 'num_leaves': 30,\n",
       " 'objective': None,\n",
       " 'random_state': 2022,\n",
       " 'reg_alpha': 0.75,\n",
       " 'reg_lambda': 0.25,\n",
       " 'silent': 'warn',\n",
       " 'subsample': 1.0,\n",
       " 'subsample_for_bin': 20000,\n",
       " 'subsample_freq': 0,\n",
       " 'is_unbalance': True}"
      ]
     },
     "execution_count": 4,
     "metadata": {},
     "output_type": "execute_result"
    }
   ],
   "source": [
    "prod_model.get_params()"
   ]
  },
  {
   "cell_type": "code",
   "execution_count": 5,
   "metadata": {
    "ExecuteTime": {
     "end_time": "2023-02-15T13:19:12.767672Z",
     "start_time": "2023-02-15T13:19:12.524520Z"
    }
   },
   "outputs": [],
   "source": [
    "X_oot_kasım = pd.read_pickle(\"X_oot_kasım.pkl\")\n",
    "\n",
    "X_oot_aralık = pd.read_pickle(\"X_oot_aralık.pkl\")\n",
    "\n",
    "X_oot_ocak = pd.read_pickle(\"X_oot_ocak.pkl\")\n",
    "\n",
    "X_oot_subat = pd.read_pickle(\"X_oot_subat.pkl\")\n",
    "\n",
    "X_oot_mart = pd.read_pickle(\"X_oot_mart.pkl\")\n",
    "\n",
    "X_oot_nisan = pd.read_pickle(\"X_oot_nisan.pkl\")\n",
    "\n",
    "X_oot_mayıs = pd.read_pickle(\"X_oot_mayıs.pkl\")\n",
    "\n",
    "X_recent_agustos = pd.read_pickle(\"X_recent_agustos.pkl\")\n",
    "\n",
    "X_recent_eylul = pd.read_pickle(\"X_recent_eylul.pkl\")\n",
    "\n",
    "X_recent_ekim = pd.read_pickle(\"X_recent_ekim.pkl\")\n",
    "\n",
    "X_recent_kasım = pd.read_pickle(\"X_recent_kasım.pkl\")\n",
    "\n",
    "#X_most_recent_aralık = pd.read_pickle(\"X_most_recent_aralık.pkl\")\n",
    "\n",
    "#X_most_recent_ocak = pd.read_pickle(\"X_most_recent_ocak.pkl\")"
   ]
  },
  {
   "cell_type": "code",
   "execution_count": 6,
   "metadata": {
    "ExecuteTime": {
     "end_time": "2023-02-15T13:19:13.880264Z",
     "start_time": "2023-02-15T13:19:13.775760Z"
    }
   },
   "outputs": [],
   "source": [
    "y_oot_kasım = pd.read_pickle(\"y_oot_kasım.pkl\")\n",
    "\n",
    "y_oot_aralık = pd.read_pickle(\"y_oot_aralık.pkl\")\n",
    "\n",
    "y_oot_ocak = pd.read_pickle(\"y_oot_ocak.pkl\")\n",
    "\n",
    "y_oot_subat = pd.read_pickle(\"y_oot_subat.pkl\")\n",
    "\n",
    "y_oot_mart = pd.read_pickle(\"y_oot_mart.pkl\")\n",
    "\n",
    "y_oot_nisan = pd.read_pickle(\"y_oot_nisan.pkl\")\n",
    "\n",
    "y_oot_mayıs = pd.read_pickle(\"y_oot_mayıs.pkl\")\n",
    "\n",
    "y_recent_agustos = pd.read_pickle(\"y_recent_agustos.pkl\")\n",
    "\n",
    "y_recent_eylul = pd.read_pickle(\"y_recent_eylul.pkl\")\n",
    "\n",
    "y_recent_ekim = pd.read_pickle(\"y_recent_ekim.pkl\")\n",
    "\n",
    "y_recent_kasım = pd.read_pickle(\"y_recent_kasım.pkl\")\n",
    "\n",
    "#y_most_recent_aralık = pd.read_pickle(\"y_most_recent_aralık.pkl\")\n",
    "\n",
    "#y_most_recent_ocak = pd.read_pickle(\"y_most_recent_ocak.pkl\")"
   ]
  },
  {
   "cell_type": "code",
   "execution_count": 7,
   "metadata": {
    "ExecuteTime": {
     "end_time": "2023-02-15T13:19:15.894499Z",
     "start_time": "2023-02-15T13:19:15.845543Z"
    }
   },
   "outputs": [],
   "source": [
    "X_most_recent_final = pd.read_pickle(\"X_most_recent_final.pkl\")  # aralık-ocak datası\n",
    "\n",
    "y_most_recent_final = pd.read_pickle(\"y_most_recent_final.pkl\")  # aralık-ocak target"
   ]
  },
  {
   "cell_type": "code",
   "execution_count": 8,
   "metadata": {
    "ExecuteTime": {
     "end_time": "2023-02-15T13:19:18.119342Z",
     "start_time": "2023-02-15T13:19:18.116770Z"
    }
   },
   "outputs": [],
   "source": [
    "datasets = [X_oot_kasım, X_oot_aralık, X_oot_ocak, X_oot_subat, X_oot_mart, X_oot_nisan, X_oot_mayıs,\n",
    "            X_recent_agustos, X_recent_eylul, X_recent_ekim, X_recent_kasım]"
   ]
  },
  {
   "cell_type": "code",
   "execution_count": 9,
   "metadata": {
    "ExecuteTime": {
     "end_time": "2023-02-15T13:19:18.679004Z",
     "start_time": "2023-02-15T13:19:18.676729Z"
    }
   },
   "outputs": [],
   "source": [
    "targets =  [y_oot_kasım, y_oot_aralık, y_oot_ocak, y_oot_subat, y_oot_mart, y_oot_nisan, y_oot_mayıs,\n",
    "            y_recent_agustos, y_recent_eylul, y_recent_ekim, y_recent_kasım]"
   ]
  },
  {
   "cell_type": "markdown",
   "metadata": {},
   "source": [
    "**PROD MODEL PREDICTIONS**"
   ]
  },
  {
   "cell_type": "code",
   "execution_count": 10,
   "metadata": {
    "ExecuteTime": {
     "end_time": "2023-02-15T13:19:27.779732Z",
     "start_time": "2023-02-15T13:19:27.656910Z"
    }
   },
   "outputs": [],
   "source": [
    "probas_most_recent = prod_model.predict_proba(X_most_recent_final)[:,1]"
   ]
  },
  {
   "cell_type": "code",
   "execution_count": 11,
   "metadata": {
    "ExecuteTime": {
     "end_time": "2023-02-15T13:19:32.405700Z",
     "start_time": "2023-02-15T13:19:32.380669Z"
    }
   },
   "outputs": [
    {
     "data": {
      "text/plain": [
       "0.18331771999643165"
      ]
     },
     "execution_count": 11,
     "metadata": {},
     "output_type": "execute_result"
    }
   ],
   "source": [
    "pr_auc(y_most_recent_final, probas_most_recent)"
   ]
  },
  {
   "cell_type": "markdown",
   "metadata": {},
   "source": [
    "**BATCH MODEL PREDICTIONS**"
   ]
  },
  {
   "cell_type": "code",
   "execution_count": 12,
   "metadata": {
    "ExecuteTime": {
     "end_time": "2023-02-15T13:19:44.437364Z",
     "start_time": "2023-02-15T13:19:42.764993Z"
    }
   },
   "outputs": [
    {
     "data": {
      "text/plain": [
       "((2510749, 30), (2510749,))"
      ]
     },
     "execution_count": 12,
     "metadata": {},
     "output_type": "execute_result"
    }
   ],
   "source": [
    "X_dev_oot_recent_batch = pd.read_pickle(\"X_dev_oot_recent_batch.pkl\")\n",
    "\n",
    "y_dev_oot_recent_batch = pd.read_pickle(\"y_dev_oot_recent_batch.pkl\")\n",
    "\n",
    "X_dev_oot_recent_batch.shape, y_dev_oot_recent_batch.shape"
   ]
  },
  {
   "cell_type": "code",
   "execution_count": 13,
   "metadata": {
    "ExecuteTime": {
     "end_time": "2023-02-15T13:19:54.385077Z",
     "start_time": "2023-02-15T13:19:44.439374Z"
    }
   },
   "outputs": [
    {
     "name": "stdout",
     "output_type": "stream",
     "text": [
      "CPU times: user 4min 36s, sys: 17.5 s, total: 4min 54s\n",
      "Wall time: 9.93 s\n"
     ]
    },
    {
     "data": {
      "text/plain": [
       "LGBMClassifier(importance_type='gain', is_unbalance=True, max_depth=4,\n",
       "               n_estimators=300, num_leaves=30, random_state=2022,\n",
       "               reg_alpha=0.75, reg_lambda=0.25, subsample_for_bin=20000)"
      ]
     },
     "execution_count": 13,
     "metadata": {},
     "output_type": "execute_result"
    }
   ],
   "source": [
    "%%time\n",
    "prod_model.fit(X_dev_oot_recent_batch, y_dev_oot_recent_batch)"
   ]
  },
  {
   "cell_type": "code",
   "execution_count": 14,
   "metadata": {
    "ExecuteTime": {
     "end_time": "2023-02-15T13:19:54.504886Z",
     "start_time": "2023-02-15T13:19:54.387225Z"
    }
   },
   "outputs": [],
   "source": [
    "probas_most_recent = prod_model.predict_proba(X_most_recent_final)[:,1]"
   ]
  },
  {
   "cell_type": "code",
   "execution_count": 15,
   "metadata": {
    "ExecuteTime": {
     "end_time": "2023-02-15T13:19:55.605089Z",
     "start_time": "2023-02-15T13:19:55.587853Z"
    }
   },
   "outputs": [
    {
     "data": {
      "text/plain": [
       "0.1164785576599589"
      ]
     },
     "execution_count": 15,
     "metadata": {},
     "output_type": "execute_result"
    }
   ],
   "source": [
    "pr_auc(y_most_recent_final, probas_most_recent)"
   ]
  },
  {
   "cell_type": "markdown",
   "metadata": {},
   "source": [
    "**UNDERSAMPLING BATCH MODEL**"
   ]
  },
  {
   "cell_type": "code",
   "execution_count": 16,
   "metadata": {
    "ExecuteTime": {
     "end_time": "2023-02-15T13:19:57.595240Z",
     "start_time": "2023-02-15T13:19:57.592801Z"
    }
   },
   "outputs": [],
   "source": [
    "rus = RandomUnderSampler(sampling_strategy = 0.02, random_state = 2023)"
   ]
  },
  {
   "cell_type": "code",
   "execution_count": 17,
   "metadata": {
    "ExecuteTime": {
     "end_time": "2023-02-15T13:20:04.861630Z",
     "start_time": "2023-02-15T13:20:00.914760Z"
    }
   },
   "outputs": [],
   "source": [
    "X_dev_oot_recent_batch_resampled, y_dev_oot_recent_batch_resampled = rus.fit_resample(X_dev_oot_recent_batch, \n",
    "                                                                                      y_dev_oot_recent_batch)"
   ]
  },
  {
   "cell_type": "code",
   "execution_count": 18,
   "metadata": {
    "ExecuteTime": {
     "end_time": "2023-02-15T13:20:05.106707Z",
     "start_time": "2023-02-15T13:20:04.863487Z"
    }
   },
   "outputs": [
    {
     "data": {
      "text/plain": [
       "Counter({0: 2493302, 1: 17447})"
      ]
     },
     "execution_count": 18,
     "metadata": {},
     "output_type": "execute_result"
    }
   ],
   "source": [
    "Counter(y_dev_oot_recent_batch)"
   ]
  },
  {
   "cell_type": "code",
   "execution_count": 19,
   "metadata": {
    "ExecuteTime": {
     "end_time": "2023-02-15T13:20:05.197660Z",
     "start_time": "2023-02-15T13:20:05.108501Z"
    }
   },
   "outputs": [
    {
     "data": {
      "text/plain": [
       "Counter({0: 872350, 1: 17447})"
      ]
     },
     "execution_count": 19,
     "metadata": {},
     "output_type": "execute_result"
    }
   ],
   "source": [
    "Counter(y_dev_oot_recent_batch_resampled)"
   ]
  },
  {
   "cell_type": "code",
   "execution_count": 20,
   "metadata": {
    "ExecuteTime": {
     "end_time": "2023-02-15T13:20:05.204438Z",
     "start_time": "2023-02-15T13:20:05.199160Z"
    }
   },
   "outputs": [
    {
     "data": {
      "text/plain": [
       "0.006948922413192239"
      ]
     },
     "execution_count": 20,
     "metadata": {},
     "output_type": "execute_result"
    }
   ],
   "source": [
    "y_dev_oot_recent_batch.mean()"
   ]
  },
  {
   "cell_type": "code",
   "execution_count": 21,
   "metadata": {
    "ExecuteTime": {
     "end_time": "2023-02-15T13:20:05.209383Z",
     "start_time": "2023-02-15T13:20:05.205796Z"
    }
   },
   "outputs": [
    {
     "data": {
      "text/plain": [
       "0.0196078431372549"
      ]
     },
     "execution_count": 21,
     "metadata": {},
     "output_type": "execute_result"
    }
   ],
   "source": [
    "y_dev_oot_recent_batch_resampled.mean()"
   ]
  },
  {
   "cell_type": "code",
   "execution_count": 22,
   "metadata": {
    "ExecuteTime": {
     "end_time": "2023-02-15T13:20:11.968516Z",
     "start_time": "2023-02-15T13:20:08.737841Z"
    }
   },
   "outputs": [
    {
     "name": "stdout",
     "output_type": "stream",
     "text": [
      "CPU times: user 1min 39s, sys: 4.11 s, total: 1min 43s\n",
      "Wall time: 3.21 s\n"
     ]
    },
    {
     "data": {
      "text/plain": [
       "LGBMClassifier(importance_type='gain', is_unbalance=True, max_depth=4,\n",
       "               n_estimators=300, num_leaves=30, random_state=2022,\n",
       "               reg_alpha=0.75, reg_lambda=0.25, subsample_for_bin=20000)"
      ]
     },
     "execution_count": 22,
     "metadata": {},
     "output_type": "execute_result"
    }
   ],
   "source": [
    "%%time\n",
    "prod_model.fit(X_dev_oot_recent_batch_resampled, y_dev_oot_recent_batch_resampled)"
   ]
  },
  {
   "cell_type": "code",
   "execution_count": 23,
   "metadata": {
    "ExecuteTime": {
     "end_time": "2023-02-15T13:20:14.528886Z",
     "start_time": "2023-02-15T13:20:14.421982Z"
    }
   },
   "outputs": [],
   "source": [
    "probas_most_recent_undersampled_model = prod_model.predict_proba(X_most_recent_final)[:,1]"
   ]
  },
  {
   "cell_type": "code",
   "execution_count": 24,
   "metadata": {
    "ExecuteTime": {
     "end_time": "2023-02-15T13:20:19.705059Z",
     "start_time": "2023-02-15T13:20:19.687605Z"
    }
   },
   "outputs": [
    {
     "data": {
      "text/plain": [
       "0.20740899717293382"
      ]
     },
     "execution_count": 24,
     "metadata": {},
     "output_type": "execute_result"
    }
   ],
   "source": [
    "pr_auc(y_most_recent_final, probas_most_recent_undersampled_model)"
   ]
  },
  {
   "cell_type": "markdown",
   "metadata": {},
   "source": [
    "**MINI-BATCH APPROACH**"
   ]
  },
  {
   "cell_type": "code",
   "execution_count": 25,
   "metadata": {
    "ExecuteTime": {
     "end_time": "2023-02-15T13:20:24.584769Z",
     "start_time": "2023-02-15T13:20:24.583009Z"
    }
   },
   "outputs": [],
   "source": [
    "# 1 AY 1 AY EKLENEREK MOST_RECENT BAKILACAK...\n",
    "\n",
    "# trials will include : conservative model // agressive model // twice mini-batching etc..."
   ]
  },
  {
   "cell_type": "code",
   "execution_count": 26,
   "metadata": {
    "ExecuteTime": {
     "end_time": "2023-02-15T13:20:27.134434Z",
     "start_time": "2023-02-15T13:20:27.126509Z"
    }
   },
   "outputs": [],
   "source": [
    "prod_model = joblib.load(\"model_30_features_dev_june_july_twice.joblib\")"
   ]
  },
  {
   "cell_type": "code",
   "execution_count": 27,
   "metadata": {
    "ExecuteTime": {
     "end_time": "2023-02-15T13:20:28.235399Z",
     "start_time": "2023-02-15T13:20:28.231992Z"
    }
   },
   "outputs": [
    {
     "data": {
      "text/plain": [
       "LGBMClassifier(importance_type='gain', is_unbalance=True, max_depth=4,\n",
       "               n_estimators=300, num_leaves=30, random_state=2022,\n",
       "               reg_alpha=0.75, reg_lambda=0.25, subsample_for_bin=20000)"
      ]
     },
     "execution_count": 27,
     "metadata": {},
     "output_type": "execute_result"
    }
   ],
   "source": [
    "prod_model"
   ]
  },
  {
   "cell_type": "code",
   "execution_count": 28,
   "metadata": {
    "ExecuteTime": {
     "end_time": "2023-02-15T13:20:31.666794Z",
     "start_time": "2023-02-15T13:20:31.664084Z"
    }
   },
   "outputs": [],
   "source": [
    "# CONSERVATIVE MODEL \n",
    "\n",
    "model1 = LGBMClassifier(importance_type='gain', is_unbalance=True, max_depth=2,\n",
    "                       n_estimators=10, num_leaves=30, random_state=2022,\n",
    "                       reg_alpha=0.75, reg_lambda=0.25)"
   ]
  },
  {
   "cell_type": "code",
   "execution_count": 29,
   "metadata": {
    "ExecuteTime": {
     "end_time": "2023-02-15T13:20:32.494699Z",
     "start_time": "2023-02-15T13:20:32.492224Z"
    }
   },
   "outputs": [],
   "source": [
    "# AGRESSIVE MODEL \n",
    "\n",
    "model2 = LGBMClassifier(importance_type='gain', is_unbalance=True, max_depth=6,\n",
    "                       n_estimators=1000, num_leaves=30, random_state=2022,\n",
    "                       reg_alpha=0.75, reg_lambda=0.25)"
   ]
  },
  {
   "cell_type": "code",
   "execution_count": 30,
   "metadata": {
    "ExecuteTime": {
     "end_time": "2023-02-15T13:20:34.040949Z",
     "start_time": "2023-02-15T13:20:34.038589Z"
    }
   },
   "outputs": [],
   "source": [
    "models = [prod_model]"
   ]
  },
  {
   "cell_type": "code",
   "execution_count": 31,
   "metadata": {
    "ExecuteTime": {
     "end_time": "2023-02-15T13:20:34.498414Z",
     "start_time": "2023-02-15T13:20:34.316494Z"
    }
   },
   "outputs": [
    {
     "data": {
      "text/plain": [
       "8858"
      ]
     },
     "execution_count": 31,
     "metadata": {},
     "output_type": "execute_result"
    }
   ],
   "source": [
    "prod_model.booster_.trees_to_dataframe().shape[0]"
   ]
  },
  {
   "cell_type": "markdown",
   "metadata": {},
   "source": [
    "**CONSERVATIVE MODEL MINI-BATCH LEARNING**"
   ]
  },
  {
   "cell_type": "code",
   "execution_count": 32,
   "metadata": {
    "ExecuteTime": {
     "end_time": "2023-02-15T13:20:49.554420Z",
     "start_time": "2023-02-15T13:20:43.819971Z"
    }
   },
   "outputs": [
    {
     "name": "stdout",
     "output_type": "stream",
     "text": [
      "8928\n",
      "PR_AUC ----->>> 0.18220820818462724\n",
      "8998\n",
      "PR_AUC ----->>> 0.18040285201299053\n",
      "9066\n",
      "PR_AUC ----->>> 0.18058244235565943\n",
      "9136\n",
      "PR_AUC ----->>> 0.18150159397285032\n",
      "9206\n",
      "PR_AUC ----->>> 0.18570417551817917\n",
      "9276\n",
      "PR_AUC ----->>> 0.18055651787527743\n",
      "9346\n",
      "PR_AUC ----->>> 0.17854253920162488\n",
      "9416\n",
      "PR_AUC ----->>> 0.17946585778593624\n",
      "9486\n",
      "PR_AUC ----->>> 0.18006273348752483\n",
      "9554\n",
      "PR_AUC ----->>> 0.18023195766399386\n",
      "9624\n",
      "PR_AUC ----->>> 0.17936360891553332\n"
     ]
    }
   ],
   "source": [
    "# conservative model mini-batch learning\n",
    "\n",
    "for i in range(len(datasets)):\n",
    "    \n",
    "    model1.fit(datasets[i], targets[i], init_model = models[-1])\n",
    "    \n",
    "    models.append(model1)\n",
    "    \n",
    "    print(model1.booster_.trees_to_dataframe().shape[0])\n",
    "    \n",
    "    proba = model1.predict_proba(X_most_recent_final)[:,1]\n",
    "    \n",
    "    pr_auc_score = pr_auc(y_most_recent_final, proba)\n",
    "    \n",
    "    print(\"PR_AUC ----->>>\"  , pr_auc_score)"
   ]
  },
  {
   "cell_type": "code",
   "execution_count": 33,
   "metadata": {
    "ExecuteTime": {
     "end_time": "2023-02-15T13:21:01.182955Z",
     "start_time": "2023-02-15T13:20:54.648962Z"
    }
   },
   "outputs": [
    {
     "name": "stdout",
     "output_type": "stream",
     "text": [
      "9694\n",
      "PR_AUC ----->>> 0.1799176981826055\n",
      "9764\n",
      "PR_AUC ----->>> 0.17398563630324138\n",
      "9834\n",
      "PR_AUC ----->>> 0.16717154552092323\n",
      "9904\n",
      "PR_AUC ----->>> 0.16609650979013016\n",
      "9974\n",
      "PR_AUC ----->>> 0.16553702790443273\n",
      "10044\n",
      "PR_AUC ----->>> 0.1614102458448117\n",
      "10114\n",
      "PR_AUC ----->>> 0.1644787060295191\n",
      "10184\n",
      "PR_AUC ----->>> 0.16985010595500571\n",
      "10254\n",
      "PR_AUC ----->>> 0.17417893048900704\n",
      "10324\n",
      "PR_AUC ----->>> 0.17038906064306747\n",
      "10394\n",
      "PR_AUC ----->>> 0.17049461051392306\n"
     ]
    }
   ],
   "source": [
    "# conservative model mini-batch learning  ( twice )\n",
    "\n",
    "for i in range(len(datasets)):\n",
    "    \n",
    "    model1.fit(datasets[i], targets[i], init_model = models[-1])\n",
    "    \n",
    "    models.append(model1)\n",
    "    \n",
    "    print(model1.booster_.trees_to_dataframe().shape[0])\n",
    "    \n",
    "    proba = model1.predict_proba(X_most_recent_final)[:,1]\n",
    "    \n",
    "    pr_auc_score = pr_auc(y_most_recent_final, proba)\n",
    "    \n",
    "    print(\"PR_AUC ----->>>\"  , pr_auc_score)"
   ]
  },
  {
   "cell_type": "markdown",
   "metadata": {},
   "source": [
    "**AGRESSIVE MODEL MINI-BATCH LEARNING**"
   ]
  },
  {
   "cell_type": "code",
   "execution_count": 34,
   "metadata": {
    "ExecuteTime": {
     "end_time": "2023-02-15T13:21:06.510002Z",
     "start_time": "2023-02-15T13:21:06.502829Z"
    }
   },
   "outputs": [],
   "source": [
    "prod_model = joblib.load(\"model_30_features_dev_june_july_twice.joblib\")"
   ]
  },
  {
   "cell_type": "code",
   "execution_count": 35,
   "metadata": {
    "ExecuteTime": {
     "end_time": "2023-02-15T13:21:07.312795Z",
     "start_time": "2023-02-15T13:21:07.310202Z"
    }
   },
   "outputs": [],
   "source": [
    "# AGRESSIVE MODEL \n",
    "model2 = LGBMClassifier(importance_type='gain', is_unbalance=True, max_depth=6,\n",
    "                       n_estimators=1000, num_leaves=30, random_state=2022,\n",
    "                       reg_alpha=0.75, reg_lambda=0.25)"
   ]
  },
  {
   "cell_type": "code",
   "execution_count": 36,
   "metadata": {
    "ExecuteTime": {
     "end_time": "2023-02-15T13:21:08.937404Z",
     "start_time": "2023-02-15T13:21:08.761640Z"
    }
   },
   "outputs": [
    {
     "data": {
      "text/plain": [
       "8858"
      ]
     },
     "execution_count": 36,
     "metadata": {},
     "output_type": "execute_result"
    }
   ],
   "source": [
    "prod_model.booster_.trees_to_dataframe().shape[0]"
   ]
  },
  {
   "cell_type": "code",
   "execution_count": 37,
   "metadata": {
    "ExecuteTime": {
     "end_time": "2023-02-15T13:21:10.300348Z",
     "start_time": "2023-02-15T13:21:10.298498Z"
    }
   },
   "outputs": [],
   "source": [
    "models = [prod_model]"
   ]
  },
  {
   "cell_type": "code",
   "execution_count": 38,
   "metadata": {
    "ExecuteTime": {
     "end_time": "2023-02-15T13:23:06.582805Z",
     "start_time": "2023-02-15T13:21:15.902212Z"
    }
   },
   "outputs": [
    {
     "name": "stdout",
     "output_type": "stream",
     "text": [
      "27881\n",
      "PR_AUC ----->>> 0.14733426461581695\n",
      "69063\n",
      "PR_AUC ----->>> 0.0261533402084652\n",
      "100289\n",
      "PR_AUC ----->>> 0.0809616678728867\n",
      "127097\n",
      "PR_AUC ----->>> 0.1553262317945438\n",
      "152861\n",
      "PR_AUC ----->>> 0.18061235394642589\n",
      "176693\n",
      "PR_AUC ----->>> 0.17301732793116223\n",
      "199875\n",
      "PR_AUC ----->>> 0.1649886659308058\n",
      "226419\n",
      "PR_AUC ----->>> 0.2512176175591838\n",
      "251889\n",
      "PR_AUC ----->>> 0.22986751301021272\n",
      "278111\n",
      "PR_AUC ----->>> 0.24970830309032008\n",
      "303257\n",
      "PR_AUC ----->>> 0.20377022983606835\n"
     ]
    }
   ],
   "source": [
    "# agressive model mini-batch learning\n",
    "\n",
    "for i in range(len(datasets)):\n",
    "    \n",
    "    model2.fit(datasets[i], targets[i], init_model = models[-1])\n",
    "    \n",
    "    models.append(model2)\n",
    "    \n",
    "    print(model2.booster_.trees_to_dataframe().shape[0])\n",
    "    \n",
    "    proba = model2.predict_proba(X_most_recent_final)[:,1]\n",
    "    \n",
    "    pr_auc_score = pr_auc(y_most_recent_final, proba)\n",
    "    \n",
    "    print(\"PR_AUC ----->>>\"  , pr_auc_score)"
   ]
  },
  {
   "cell_type": "code",
   "execution_count": 39,
   "metadata": {
    "ExecuteTime": {
     "end_time": "2023-02-15T13:26:55.740913Z",
     "start_time": "2023-02-15T13:23:23.992786Z"
    }
   },
   "outputs": [
    {
     "name": "stdout",
     "output_type": "stream",
     "text": [
      "321581\n",
      "PR_AUC ----->>> 0.20168029038367324\n",
      "332430\n",
      "PR_AUC ----->>> 0.19323143135278975\n",
      "348952\n",
      "PR_AUC ----->>> 0.19405907583703577\n",
      "367748\n",
      "PR_AUC ----->>> 0.19843692435485613\n",
      "367748\n",
      "PR_AUC ----->>> 0.19843692435485613\n",
      "386098\n",
      "PR_AUC ----->>> 0.20550242046622624\n",
      "403520\n",
      "PR_AUC ----->>> 0.20032130072617788\n",
      "425172\n",
      "PR_AUC ----->>> 0.2415677991941135\n",
      "447184\n",
      "PR_AUC ----->>> 0.24934253499335482\n",
      "469012\n",
      "PR_AUC ----->>> 0.2537270453052841\n",
      "489306\n",
      "PR_AUC ----->>> 0.22858640976285766\n"
     ]
    }
   ],
   "source": [
    "# agressive model mini-batch learning ( twice )\n",
    "\n",
    "for i in range(len(datasets)):\n",
    "    \n",
    "    model2.fit(datasets[i], targets[i], init_model = models[-1])\n",
    "    \n",
    "    models.append(model2)\n",
    "    \n",
    "    print(model2.booster_.trees_to_dataframe().shape[0])\n",
    "    \n",
    "    proba = model2.predict_proba(X_most_recent_final)[:,1]\n",
    "    \n",
    "    pr_auc_score = pr_auc(y_most_recent_final, proba)\n",
    "    \n",
    "    print(\"PR_AUC ----->>>\"  , pr_auc_score)"
   ]
  },
  {
   "cell_type": "markdown",
   "metadata": {},
   "source": [
    "**UNDERSAMPLING DATA AND MINI-BATCH LEARNING USING CONSERVATIVE & AGRESSIVE MODELS**"
   ]
  },
  {
   "cell_type": "code",
   "execution_count": 40,
   "metadata": {
    "ExecuteTime": {
     "end_time": "2023-02-15T13:27:39.157425Z",
     "start_time": "2023-02-15T13:27:39.147784Z"
    }
   },
   "outputs": [],
   "source": [
    "prod_model = joblib.load(\"model_30_features_dev_june_july_twice.joblib\")"
   ]
  },
  {
   "cell_type": "code",
   "execution_count": 41,
   "metadata": {
    "ExecuteTime": {
     "end_time": "2023-02-15T13:27:40.640504Z",
     "start_time": "2023-02-15T13:27:40.636921Z"
    }
   },
   "outputs": [],
   "source": [
    "# CONSERVATIVE MODEL \n",
    "\n",
    "model1 = LGBMClassifier(importance_type='gain', is_unbalance=True, max_depth=2,\n",
    "                       n_estimators=10, num_leaves=30, random_state=2022,\n",
    "                       reg_alpha=0.75, reg_lambda=0.25)"
   ]
  },
  {
   "cell_type": "code",
   "execution_count": 42,
   "metadata": {
    "ExecuteTime": {
     "end_time": "2023-02-15T13:27:41.010023Z",
     "start_time": "2023-02-15T13:27:41.007745Z"
    }
   },
   "outputs": [],
   "source": [
    "# AGRESSIVE MODEL \n",
    "\n",
    "model2 = LGBMClassifier(importance_type='gain', is_unbalance=True, max_depth=6,\n",
    "                       n_estimators=1000, num_leaves=30, random_state=2022,\n",
    "                       reg_alpha=0.75, reg_lambda=0.25)"
   ]
  },
  {
   "cell_type": "code",
   "execution_count": 43,
   "metadata": {
    "ExecuteTime": {
     "end_time": "2023-02-15T13:27:43.205299Z",
     "start_time": "2023-02-15T13:27:43.001616Z"
    }
   },
   "outputs": [
    {
     "data": {
      "text/plain": [
       "8858"
      ]
     },
     "execution_count": 43,
     "metadata": {},
     "output_type": "execute_result"
    }
   ],
   "source": [
    "prod_model.booster_.trees_to_dataframe().shape[0]"
   ]
  },
  {
   "cell_type": "code",
   "execution_count": 44,
   "metadata": {
    "ExecuteTime": {
     "end_time": "2023-02-15T13:27:43.315701Z",
     "start_time": "2023-02-15T13:27:43.280722Z"
    }
   },
   "outputs": [],
   "source": [
    "models = [prod_model]"
   ]
  },
  {
   "cell_type": "code",
   "execution_count": 45,
   "metadata": {
    "ExecuteTime": {
     "end_time": "2023-02-15T13:27:45.033727Z",
     "start_time": "2023-02-15T13:27:45.031536Z"
    }
   },
   "outputs": [],
   "source": [
    "rus = RandomUnderSampler(sampling_strategy = 0.02, random_state = 2023)"
   ]
  },
  {
   "cell_type": "markdown",
   "metadata": {},
   "source": [
    "**conservative model**"
   ]
  },
  {
   "cell_type": "code",
   "execution_count": 46,
   "metadata": {
    "ExecuteTime": {
     "end_time": "2023-02-15T13:27:52.699658Z",
     "start_time": "2023-02-15T13:27:47.762131Z"
    }
   },
   "outputs": [
    {
     "name": "stdout",
     "output_type": "stream",
     "text": [
      "8928\n",
      "PR_AUC ----->>> 0.17910047135750548\n",
      "8994\n",
      "PR_AUC ----->>> 0.18119041460614208\n",
      "9056\n",
      "PR_AUC ----->>> 0.1803778471082567\n",
      "9126\n",
      "PR_AUC ----->>> 0.18147331951125362\n",
      "9196\n",
      "PR_AUC ----->>> 0.18364757402300752\n",
      "9266\n",
      "PR_AUC ----->>> 0.17904664790256306\n",
      "9336\n",
      "PR_AUC ----->>> 0.18029039170952812\n",
      "9404\n",
      "PR_AUC ----->>> 0.18212290411704066\n",
      "9474\n",
      "PR_AUC ----->>> 0.18427058976783212\n",
      "9542\n",
      "PR_AUC ----->>> 0.18726083108917227\n",
      "9612\n",
      "PR_AUC ----->>> 0.1860844106669671\n"
     ]
    }
   ],
   "source": [
    "# conservative model mini-batch learning -- undersampled data.\n",
    "\n",
    "for i in range(len(datasets)):\n",
    "    \n",
    "    X, y = rus.fit_resample(datasets[i], targets[i])\n",
    "    \n",
    "    model1.fit(X, y, init_model = models[-1])\n",
    "    \n",
    "    models.append(model1)\n",
    "    \n",
    "    print(model1.booster_.trees_to_dataframe().shape[0])\n",
    "    \n",
    "    proba = model1.predict_proba(X_most_recent_final)[:,1]\n",
    "    \n",
    "    pr_auc_score = pr_auc(y_most_recent_final, proba)\n",
    "    \n",
    "    print(\"PR_AUC ----->>>\"  , pr_auc_score)"
   ]
  },
  {
   "cell_type": "code",
   "execution_count": 47,
   "metadata": {
    "ExecuteTime": {
     "end_time": "2023-02-15T13:28:01.394441Z",
     "start_time": "2023-02-15T13:27:56.227711Z"
    }
   },
   "outputs": [
    {
     "name": "stdout",
     "output_type": "stream",
     "text": [
      "9682\n",
      "PR_AUC ----->>> 0.1827592803872589\n",
      "9750\n",
      "PR_AUC ----->>> 0.17778542432197852\n",
      "9820\n",
      "PR_AUC ----->>> 0.17577269995277484\n",
      "9890\n",
      "PR_AUC ----->>> 0.17144230363654872\n",
      "9960\n",
      "PR_AUC ----->>> 0.16993350999156112\n",
      "10030\n",
      "PR_AUC ----->>> 0.16736683571859784\n",
      "10100\n",
      "PR_AUC ----->>> 0.1674598485505154\n",
      "10170\n",
      "PR_AUC ----->>> 0.1695892111900818\n",
      "10240\n",
      "PR_AUC ----->>> 0.17040810843381324\n",
      "10310\n",
      "PR_AUC ----->>> 0.17152604258007553\n",
      "10380\n",
      "PR_AUC ----->>> 0.17177680532830691\n"
     ]
    }
   ],
   "source": [
    "# conservative model mini-batch learning ( twice ) -- undersampled data\n",
    "\n",
    "for i in range(len(datasets)):\n",
    "    \n",
    "    X, y = rus.fit_resample(datasets[i], targets[i])\n",
    "    \n",
    "    model1.fit(X, y, init_model = models[-1])\n",
    "    \n",
    "    models.append(model1)\n",
    "    \n",
    "    print(model1.booster_.trees_to_dataframe().shape[0])\n",
    "    \n",
    "    proba = model1.predict_proba(X_most_recent_final)[:,1]\n",
    "    \n",
    "    pr_auc_score = pr_auc(y_most_recent_final, proba)\n",
    "    \n",
    "    print(\"PR_AUC ----->>>\"  , pr_auc_score)"
   ]
  },
  {
   "cell_type": "markdown",
   "metadata": {},
   "source": [
    "**aggressive model**"
   ]
  },
  {
   "cell_type": "code",
   "execution_count": 48,
   "metadata": {
    "ExecuteTime": {
     "end_time": "2023-02-15T13:28:05.840643Z",
     "start_time": "2023-02-15T13:28:05.833337Z"
    }
   },
   "outputs": [],
   "source": [
    "prod_model = joblib.load(\"model_30_features_dev_june_july_twice.joblib\")"
   ]
  },
  {
   "cell_type": "code",
   "execution_count": 49,
   "metadata": {
    "ExecuteTime": {
     "end_time": "2023-02-15T13:28:06.392490Z",
     "start_time": "2023-02-15T13:28:06.110995Z"
    }
   },
   "outputs": [
    {
     "data": {
      "text/plain": [
       "8858"
      ]
     },
     "execution_count": 49,
     "metadata": {},
     "output_type": "execute_result"
    }
   ],
   "source": [
    "prod_model.booster_.trees_to_dataframe().shape[0]"
   ]
  },
  {
   "cell_type": "code",
   "execution_count": 50,
   "metadata": {
    "ExecuteTime": {
     "end_time": "2023-02-15T13:28:08.119100Z",
     "start_time": "2023-02-15T13:28:08.114204Z"
    }
   },
   "outputs": [],
   "source": [
    "models = [prod_model]"
   ]
  },
  {
   "cell_type": "code",
   "execution_count": 51,
   "metadata": {
    "ExecuteTime": {
     "end_time": "2023-02-15T13:29:31.415659Z",
     "start_time": "2023-02-15T13:28:17.058379Z"
    }
   },
   "outputs": [
    {
     "name": "stdout",
     "output_type": "stream",
     "text": [
      "20806\n",
      "PR_AUC ----->>> 0.16377307818316933\n",
      "31528\n",
      "PR_AUC ----->>> 0.02970016991301124\n",
      "42684\n",
      "PR_AUC ----->>> 0.025817433742410745\n",
      "60670\n",
      "PR_AUC ----->>> 0.034484287115847806\n",
      "92002\n",
      "PR_AUC ----->>> 0.08762628490817992\n",
      "133058\n",
      "PR_AUC ----->>> 0.10942827962751843\n",
      "174138\n",
      "PR_AUC ----->>> 0.13737183976706754\n",
      "224080\n",
      "PR_AUC ----->>> 0.18695776242241915\n",
      "265228\n",
      "PR_AUC ----->>> 0.2246097834225279\n",
      "304626\n",
      "PR_AUC ----->>> 0.22486669112690447\n",
      "344184\n",
      "PR_AUC ----->>> 0.2276568738819362\n"
     ]
    }
   ],
   "source": [
    "# aggressive model mini-batch learning -- undersampled data\n",
    "\n",
    "for i in range(len(datasets)):\n",
    "    \n",
    "    X, y = rus.fit_resample(datasets[i], targets[i])\n",
    "    \n",
    "    model2.fit(X, y, init_model = models[-1])\n",
    "    \n",
    "    models.append(model2)\n",
    "    \n",
    "    print(model2.booster_.trees_to_dataframe().shape[0])\n",
    "    \n",
    "    proba = model2.predict_proba(X_most_recent_final)[:,1]\n",
    "    \n",
    "    pr_auc_score = pr_auc(y_most_recent_final, proba)\n",
    "    \n",
    "    print(\"PR_AUC ----->>>\"  , pr_auc_score)"
   ]
  },
  {
   "cell_type": "code",
   "execution_count": 52,
   "metadata": {
    "ExecuteTime": {
     "end_time": "2023-02-15T13:33:07.351724Z",
     "start_time": "2023-02-15T13:29:31.417725Z"
    }
   },
   "outputs": [
    {
     "name": "stdout",
     "output_type": "stream",
     "text": [
      "373512\n",
      "PR_AUC ----->>> 0.23331747084630877\n",
      "397156\n",
      "PR_AUC ----->>> 0.245622736944434\n",
      "420984\n",
      "PR_AUC ----->>> 0.2469456829248192\n",
      "447554\n",
      "PR_AUC ----->>> 0.26376297489069417\n",
      "476006\n",
      "PR_AUC ----->>> 0.24304957902891067\n",
      "502054\n",
      "PR_AUC ----->>> 0.2261246222184953\n",
      "529790\n",
      "PR_AUC ----->>> 0.24148953628754213\n",
      "561732\n",
      "PR_AUC ----->>> 0.24903061256760672\n",
      "595512\n",
      "PR_AUC ----->>> 0.22752530011336497\n",
      "628230\n",
      "PR_AUC ----->>> 0.2345308522478957\n",
      "663428\n",
      "PR_AUC ----->>> 0.2644345689206906\n"
     ]
    }
   ],
   "source": [
    "# aggressive model mini-batch learning -- undersampled data ( twice )\n",
    "\n",
    "for i in range(len(datasets)):\n",
    "    \n",
    "    X, y = rus.fit_resample(datasets[i], targets[i])\n",
    "    \n",
    "    model2.fit(X, y, init_model = models[-1])\n",
    "    \n",
    "    models.append(model2)\n",
    "    \n",
    "    print(model2.booster_.trees_to_dataframe().shape[0])\n",
    "    \n",
    "    proba = model2.predict_proba(X_most_recent_final)[:,1]\n",
    "    \n",
    "    pr_auc_score = pr_auc(y_most_recent_final, proba)\n",
    "    \n",
    "    print(\"PR_AUC ----->>>\"  , pr_auc_score)"
   ]
  },
  {
   "cell_type": "code",
   "execution_count": null,
   "metadata": {},
   "outputs": [],
   "source": []
  }
 ],
 "metadata": {
  "kernelspec": {
   "display_name": "Python 3",
   "language": "python",
   "name": "python3"
  },
  "language_info": {
   "codemirror_mode": {
    "name": "ipython",
    "version": 3
   },
   "file_extension": ".py",
   "mimetype": "text/x-python",
   "name": "python",
   "nbconvert_exporter": "python",
   "pygments_lexer": "ipython3",
   "version": "3.6.7"
  },
  "toc": {
   "base_numbering": 1,
   "nav_menu": {},
   "number_sections": true,
   "sideBar": true,
   "skip_h1_title": false,
   "title_cell": "Table of Contents",
   "title_sidebar": "Contents",
   "toc_cell": true,
   "toc_position": {},
   "toc_section_display": true,
   "toc_window_display": false
  },
  "varInspector": {
   "cols": {
    "lenName": 16,
    "lenType": 16,
    "lenVar": 40
   },
   "kernels_config": {
    "python": {
     "delete_cmd_postfix": "",
     "delete_cmd_prefix": "del ",
     "library": "var_list.py",
     "varRefreshCmd": "print(var_dic_list())"
    },
    "r": {
     "delete_cmd_postfix": ") ",
     "delete_cmd_prefix": "rm(",
     "library": "var_list.r",
     "varRefreshCmd": "cat(var_dic_list()) "
    }
   },
   "types_to_exclude": [
    "module",
    "function",
    "builtin_function_or_method",
    "instance",
    "_Feature"
   ],
   "window_display": false
  }
 },
 "nbformat": 4,
 "nbformat_minor": 2
}
